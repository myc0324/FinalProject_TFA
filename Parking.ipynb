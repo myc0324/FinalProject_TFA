{
 "cells": [
  {
   "cell_type": "code",
   "execution_count": 8,
   "metadata": {},
   "outputs": [
    {
     "data": {
      "text/plain": [
       "'d:\\\\Documents\\\\GitHub\\\\FinalProject_TFA'"
      ]
     },
     "execution_count": 8,
     "metadata": {},
     "output_type": "execute_result"
    }
   ],
   "source": [
    "#get the full path of the current file directory \n",
    "import os\n",
    "os.getcwd()"
   ]
  },
  {
   "cell_type": "code",
   "execution_count": 9,
   "metadata": {},
   "outputs": [],
   "source": [
    "import pandas as pd\n",
    "import numpy as np"
   ]
  },
  {
   "cell_type": "code",
   "execution_count": 10,
   "metadata": {},
   "outputs": [],
   "source": [
    "df = pd.read_csv('311_Service_Requests_2020.csv')\n",
    "df.head(5)\n",
    "#we select 11101 as our zip code\n",
    "df1 = df[df['Incident Zip'] == 11101]\n",
    "df1"
   ]
  },
  {
   "cell_type": "code",
   "execution_count": 11,
   "metadata": {},
   "outputs": [
    {
     "data": {
      "text/plain": [
       "7.4873343650331075"
      ]
     },
     "execution_count": 11,
     "metadata": {},
     "output_type": "execute_result"
    }
   ],
   "source": [
    "#calculate the number of Illegal Parking where ZIP code is 11101\n",
    "zip_num_parking = df1[df1['Complaint Type']=='Illegal Parking'].shape[0]\n",
    "#calculate total number of accidents where ZIP code is 11101\n",
    "zip_total_inci = df1.shape[0]\n",
    "#calculate parking proportion\n",
    "zip_proportion = num_parking/total_inci*100\n",
    "zip_proportion"
   ]
  },
  {
   "cell_type": "code",
   "execution_count": 12,
   "metadata": {},
   "outputs": [
    {
     "data": {
      "text/plain": [
       "7.4873343650331075"
      ]
     },
     "execution_count": 12,
     "metadata": {},
     "output_type": "execute_result"
    }
   ],
   "source": [
    "#calculate the total numbers of llegal Parking\n",
    "num_parking = df[df['Complaint Type']=='Illegal Parking'].shape[0]\n",
    "#calculate total number of accidents\n",
    "total_inci = df.shape[0]\n",
    "#calculate overall parking proportion\n",
    "proportion = num_parking/total_inci*100\n",
    "proportion"
   ]
  },
  {
   "cell_type": "code",
   "execution_count": 13,
   "metadata": {},
   "outputs": [],
   "source": [
    "#since zip_proportion is greater than proportion\n",
    "higher_parking_proportion = True"
   ]
  }
 ],
 "metadata": {
  "interpreter": {
   "hash": "b3ba2566441a7c06988d0923437866b63cedc61552a5af99d1f4fb67d367b25f"
  },
  "kernelspec": {
   "display_name": "Python 3.8.5 64-bit ('base': conda)",
   "language": "python",
   "name": "python3"
  },
  "language_info": {
   "codemirror_mode": {
    "name": "ipython",
    "version": 3
   },
   "file_extension": ".py",
   "mimetype": "text/x-python",
   "name": "python",
   "nbconvert_exporter": "python",
   "pygments_lexer": "ipython3",
   "version": "3.8.5"
  },
  "orig_nbformat": 4
 },
 "nbformat": 4,
 "nbformat_minor": 2
}
